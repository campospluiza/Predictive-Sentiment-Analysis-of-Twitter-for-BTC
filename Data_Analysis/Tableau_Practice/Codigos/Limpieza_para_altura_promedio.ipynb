{
 "cells": [
  {
   "cell_type": "code",
   "execution_count": 1,
   "metadata": {},
   "outputs": [],
   "source": [
    "import pandas as pd\n",
    "import openpyxl\n",
    "import os\n",
    "import re\n",
    "import numpy as np"
   ]
  },
  {
   "cell_type": "code",
   "execution_count": 2,
   "metadata": {},
   "outputs": [],
   "source": [
    "#El file name va a variar depende de la ubicación donde cada quien haya guardado el archivo\n",
    "#pero la ruta que si debemos de tener todos en común es la siguiente:\n",
    "#Predictive-Sentiment-Analysis-of-Twitter-for-BTC/Data_Analysis/Tableau_Practice/Data_Sets/wbb_rosters_2022_23.xlsx\"\n",
    "file_name = \"C:/Users/willi/OneDrive/Escritorio/Henry/Proyecto twitter/Predictive-Sentiment-Analysis-of-Twitter-for-BTC/Data_Analysis/Tableau_Practice/Data_Sets/wbb_rosters_2022_23.xlsx\"\n",
    "file_path = os.path.join(os.getcwd(), file_name)\n",
    "df= pd.read_excel(file_path, sheet_name=\"wbb_rosters_2022_23\")"
   ]
  },
  {
   "cell_type": "code",
   "execution_count": 3,
   "metadata": {},
   "outputs": [
    {
     "ename": "FileNotFoundError",
     "evalue": "[Errno 2] No such file or directory: 'c:/Users/luizacampos/Downloads/wbb_rosters_2022_23.xlsx'",
     "output_type": "error",
     "traceback": [
      "\u001b[1;31m---------------------------------------------------------------------------\u001b[0m",
      "\u001b[1;31mFileNotFoundError\u001b[0m                         Traceback (most recent call last)",
      "Cell \u001b[1;32mIn[3], line 3\u001b[0m\n\u001b[0;32m      1\u001b[0m file_name \u001b[39m=\u001b[39m \u001b[39m\"\u001b[39m\u001b[39m/Users/luizacampos/Downloads/wbb_rosters_2022_23.xlsx\u001b[39m\u001b[39m\"\u001b[39m\n\u001b[0;32m      2\u001b[0m file_path \u001b[39m=\u001b[39m os\u001b[39m.\u001b[39mpath\u001b[39m.\u001b[39mjoin(os\u001b[39m.\u001b[39mgetcwd(), file_name)\n\u001b[1;32m----> 3\u001b[0m df\u001b[39m=\u001b[39m pd\u001b[39m.\u001b[39;49mread_excel(file_path, sheet_name\u001b[39m=\u001b[39;49m\u001b[39m\"\u001b[39;49m\u001b[39mwbb_rosters_2022_23\u001b[39;49m\u001b[39m\"\u001b[39;49m)\n",
      "File \u001b[1;32mc:\\Users\\willi\\AppData\\Local\\Programs\\Python\\Python311\\Lib\\site-packages\\pandas\\util\\_decorators.py:211\u001b[0m, in \u001b[0;36mdeprecate_kwarg.<locals>._deprecate_kwarg.<locals>.wrapper\u001b[1;34m(*args, **kwargs)\u001b[0m\n\u001b[0;32m    209\u001b[0m     \u001b[39melse\u001b[39;00m:\n\u001b[0;32m    210\u001b[0m         kwargs[new_arg_name] \u001b[39m=\u001b[39m new_arg_value\n\u001b[1;32m--> 211\u001b[0m \u001b[39mreturn\u001b[39;00m func(\u001b[39m*\u001b[39;49margs, \u001b[39m*\u001b[39;49m\u001b[39m*\u001b[39;49mkwargs)\n",
      "File \u001b[1;32mc:\\Users\\willi\\AppData\\Local\\Programs\\Python\\Python311\\Lib\\site-packages\\pandas\\util\\_decorators.py:331\u001b[0m, in \u001b[0;36mdeprecate_nonkeyword_arguments.<locals>.decorate.<locals>.wrapper\u001b[1;34m(*args, **kwargs)\u001b[0m\n\u001b[0;32m    325\u001b[0m \u001b[39mif\u001b[39;00m \u001b[39mlen\u001b[39m(args) \u001b[39m>\u001b[39m num_allow_args:\n\u001b[0;32m    326\u001b[0m     warnings\u001b[39m.\u001b[39mwarn(\n\u001b[0;32m    327\u001b[0m         msg\u001b[39m.\u001b[39mformat(arguments\u001b[39m=\u001b[39m_format_argument_list(allow_args)),\n\u001b[0;32m    328\u001b[0m         \u001b[39mFutureWarning\u001b[39;00m,\n\u001b[0;32m    329\u001b[0m         stacklevel\u001b[39m=\u001b[39mfind_stack_level(),\n\u001b[0;32m    330\u001b[0m     )\n\u001b[1;32m--> 331\u001b[0m \u001b[39mreturn\u001b[39;00m func(\u001b[39m*\u001b[39;49margs, \u001b[39m*\u001b[39;49m\u001b[39m*\u001b[39;49mkwargs)\n",
      "File \u001b[1;32mc:\\Users\\willi\\AppData\\Local\\Programs\\Python\\Python311\\Lib\\site-packages\\pandas\\io\\excel\\_base.py:482\u001b[0m, in \u001b[0;36mread_excel\u001b[1;34m(io, sheet_name, header, names, index_col, usecols, squeeze, dtype, engine, converters, true_values, false_values, skiprows, nrows, na_values, keep_default_na, na_filter, verbose, parse_dates, date_parser, thousands, decimal, comment, skipfooter, convert_float, mangle_dupe_cols, storage_options)\u001b[0m\n\u001b[0;32m    480\u001b[0m \u001b[39mif\u001b[39;00m \u001b[39mnot\u001b[39;00m \u001b[39misinstance\u001b[39m(io, ExcelFile):\n\u001b[0;32m    481\u001b[0m     should_close \u001b[39m=\u001b[39m \u001b[39mTrue\u001b[39;00m\n\u001b[1;32m--> 482\u001b[0m     io \u001b[39m=\u001b[39m ExcelFile(io, storage_options\u001b[39m=\u001b[39;49mstorage_options, engine\u001b[39m=\u001b[39;49mengine)\n\u001b[0;32m    483\u001b[0m \u001b[39melif\u001b[39;00m engine \u001b[39mand\u001b[39;00m engine \u001b[39m!=\u001b[39m io\u001b[39m.\u001b[39mengine:\n\u001b[0;32m    484\u001b[0m     \u001b[39mraise\u001b[39;00m \u001b[39mValueError\u001b[39;00m(\n\u001b[0;32m    485\u001b[0m         \u001b[39m\"\u001b[39m\u001b[39mEngine should not be specified when passing \u001b[39m\u001b[39m\"\u001b[39m\n\u001b[0;32m    486\u001b[0m         \u001b[39m\"\u001b[39m\u001b[39man ExcelFile - ExcelFile already has the engine set\u001b[39m\u001b[39m\"\u001b[39m\n\u001b[0;32m    487\u001b[0m     )\n",
      "File \u001b[1;32mc:\\Users\\willi\\AppData\\Local\\Programs\\Python\\Python311\\Lib\\site-packages\\pandas\\io\\excel\\_base.py:1652\u001b[0m, in \u001b[0;36mExcelFile.__init__\u001b[1;34m(self, path_or_buffer, engine, storage_options)\u001b[0m\n\u001b[0;32m   1650\u001b[0m     ext \u001b[39m=\u001b[39m \u001b[39m\"\u001b[39m\u001b[39mxls\u001b[39m\u001b[39m\"\u001b[39m\n\u001b[0;32m   1651\u001b[0m \u001b[39melse\u001b[39;00m:\n\u001b[1;32m-> 1652\u001b[0m     ext \u001b[39m=\u001b[39m inspect_excel_format(\n\u001b[0;32m   1653\u001b[0m         content_or_path\u001b[39m=\u001b[39;49mpath_or_buffer, storage_options\u001b[39m=\u001b[39;49mstorage_options\n\u001b[0;32m   1654\u001b[0m     )\n\u001b[0;32m   1655\u001b[0m     \u001b[39mif\u001b[39;00m ext \u001b[39mis\u001b[39;00m \u001b[39mNone\u001b[39;00m:\n\u001b[0;32m   1656\u001b[0m         \u001b[39mraise\u001b[39;00m \u001b[39mValueError\u001b[39;00m(\n\u001b[0;32m   1657\u001b[0m             \u001b[39m\"\u001b[39m\u001b[39mExcel file format cannot be determined, you must specify \u001b[39m\u001b[39m\"\u001b[39m\n\u001b[0;32m   1658\u001b[0m             \u001b[39m\"\u001b[39m\u001b[39man engine manually.\u001b[39m\u001b[39m\"\u001b[39m\n\u001b[0;32m   1659\u001b[0m         )\n",
      "File \u001b[1;32mc:\\Users\\willi\\AppData\\Local\\Programs\\Python\\Python311\\Lib\\site-packages\\pandas\\io\\excel\\_base.py:1525\u001b[0m, in \u001b[0;36minspect_excel_format\u001b[1;34m(content_or_path, storage_options)\u001b[0m\n\u001b[0;32m   1522\u001b[0m \u001b[39mif\u001b[39;00m \u001b[39misinstance\u001b[39m(content_or_path, \u001b[39mbytes\u001b[39m):\n\u001b[0;32m   1523\u001b[0m     content_or_path \u001b[39m=\u001b[39m BytesIO(content_or_path)\n\u001b[1;32m-> 1525\u001b[0m \u001b[39mwith\u001b[39;00m get_handle(\n\u001b[0;32m   1526\u001b[0m     content_or_path, \u001b[39m\"\u001b[39;49m\u001b[39mrb\u001b[39;49m\u001b[39m\"\u001b[39;49m, storage_options\u001b[39m=\u001b[39;49mstorage_options, is_text\u001b[39m=\u001b[39;49m\u001b[39mFalse\u001b[39;49;00m\n\u001b[0;32m   1527\u001b[0m ) \u001b[39mas\u001b[39;00m handle:\n\u001b[0;32m   1528\u001b[0m     stream \u001b[39m=\u001b[39m handle\u001b[39m.\u001b[39mhandle\n\u001b[0;32m   1529\u001b[0m     stream\u001b[39m.\u001b[39mseek(\u001b[39m0\u001b[39m)\n",
      "File \u001b[1;32mc:\\Users\\willi\\AppData\\Local\\Programs\\Python\\Python311\\Lib\\site-packages\\pandas\\io\\common.py:865\u001b[0m, in \u001b[0;36mget_handle\u001b[1;34m(path_or_buf, mode, encoding, compression, memory_map, is_text, errors, storage_options)\u001b[0m\n\u001b[0;32m    856\u001b[0m         handle \u001b[39m=\u001b[39m \u001b[39mopen\u001b[39m(\n\u001b[0;32m    857\u001b[0m             handle,\n\u001b[0;32m    858\u001b[0m             ioargs\u001b[39m.\u001b[39mmode,\n\u001b[1;32m   (...)\u001b[0m\n\u001b[0;32m    861\u001b[0m             newline\u001b[39m=\u001b[39m\u001b[39m\"\u001b[39m\u001b[39m\"\u001b[39m,\n\u001b[0;32m    862\u001b[0m         )\n\u001b[0;32m    863\u001b[0m     \u001b[39melse\u001b[39;00m:\n\u001b[0;32m    864\u001b[0m         \u001b[39m# Binary mode\u001b[39;00m\n\u001b[1;32m--> 865\u001b[0m         handle \u001b[39m=\u001b[39m \u001b[39mopen\u001b[39;49m(handle, ioargs\u001b[39m.\u001b[39;49mmode)\n\u001b[0;32m    866\u001b[0m     handles\u001b[39m.\u001b[39mappend(handle)\n\u001b[0;32m    868\u001b[0m \u001b[39m# Convert BytesIO or file objects passed with an encoding\u001b[39;00m\n",
      "\u001b[1;31mFileNotFoundError\u001b[0m: [Errno 2] No such file or directory: 'c:/Users/luizacampos/Downloads/wbb_rosters_2022_23.xlsx'"
     ]
    }
   ],
   "source": [
    "file_name = \"/Users/luizacampos/Downloads/wbb_rosters_2022_23.xlsx\"\n",
    "file_path = os.path.join(os.getcwd(), file_name)\n",
    "df= pd.read_excel(file_path, sheet_name=\"wbb_rosters_2022_23\")\n"
   ]
  },
  {
   "cell_type": "code",
   "execution_count": 11,
   "metadata": {},
   "outputs": [
    {
     "data": {
      "text/html": [
       "<div>\n",
       "<style scoped>\n",
       "    .dataframe tbody tr th:only-of-type {\n",
       "        vertical-align: middle;\n",
       "    }\n",
       "\n",
       "    .dataframe tbody tr th {\n",
       "        vertical-align: top;\n",
       "    }\n",
       "\n",
       "    .dataframe thead th {\n",
       "        text-align: right;\n",
       "    }\n",
       "</style>\n",
       "<table border=\"1\" class=\"dataframe\">\n",
       "  <thead>\n",
       "    <tr style=\"text-align: right;\">\n",
       "      <th></th>\n",
       "      <th>team</th>\n",
       "      <th>name</th>\n",
       "      <th>height_clean</th>\n",
       "      <th>position_clean</th>\n",
       "      <th>country_clean</th>\n",
       "    </tr>\n",
       "  </thead>\n",
       "  <tbody>\n",
       "    <tr>\n",
       "      <th>0</th>\n",
       "      <td>Air Force</td>\n",
       "      <td>Mackenzie Le</td>\n",
       "      <td>5'3\"</td>\n",
       "      <td>GUARD</td>\n",
       "      <td>USA</td>\n",
       "    </tr>\n",
       "    <tr>\n",
       "      <th>1</th>\n",
       "      <td>Air Force</td>\n",
       "      <td>Milahnie Perry</td>\n",
       "      <td>5'7\"</td>\n",
       "      <td>GUARD</td>\n",
       "      <td>USA</td>\n",
       "    </tr>\n",
       "    <tr>\n",
       "      <th>2</th>\n",
       "      <td>Air Force</td>\n",
       "      <td>Madison Smith</td>\n",
       "      <td>5'8\"</td>\n",
       "      <td>GUARD</td>\n",
       "      <td>USA</td>\n",
       "    </tr>\n",
       "  </tbody>\n",
       "</table>\n",
       "</div>"
      ],
      "text/plain": [
       "        team            name height_clean position_clean country_clean\n",
       "0  Air Force    Mackenzie Le         5'3\"          GUARD           USA\n",
       "1  Air Force  Milahnie Perry         5'7\"          GUARD           USA\n",
       "2  Air Force   Madison Smith         5'8\"          GUARD           USA"
      ]
     },
     "execution_count": 11,
     "metadata": {},
     "output_type": "execute_result"
    }
   ],
   "source": [
    "df.head(3)"
   ]
  },
  {
   "attachments": {},
   "cell_type": "markdown",
   "metadata": {},
   "source": [
    "Primero mostramos en pantalla todas las columnas que contiene el dataframe. Eso es importante pues, a depender de que informaciones queremos obtener de los datos, podremos eliminar algunas. En el caso de este trabajo, vamos a evaluar la altura promedio de las jugadoras, la relacion entre su altura y la posición en que juegan, que equipos poseen más jugadoras extranjeras. "
   ]
  },
  {
   "cell_type": "code",
   "execution_count": 4,
   "metadata": {},
   "outputs": [
    {
     "name": "stdout",
     "output_type": "stream",
     "text": [
      "Index(['ncaa_id', 'team', 'player_id', 'name', 'year', 'hometown', 'homestate',\n",
      "       'high_school', 'previous_school_clean', 'height_clean', 'position',\n",
      "       'jersey', 'url', 'season', 'team_state', 'conference', 'division',\n",
      "       'height_ft', 'height_in', 'total_inches', 'primary_position',\n",
      "       'secondary_position', 'position_clean', 'year_clean', 'redshirt',\n",
      "       'hs_clean', 'hometown_clean', 'state_clean', 'country_clean'],\n",
      "      dtype='object')\n"
     ]
    }
   ],
   "source": [
    "print(df.columns)"
   ]
  },
  {
   "attachments": {},
   "cell_type": "markdown",
   "metadata": {},
   "source": [
    "Pasamos a eliminar las columnas que no nos van a servir para el dashboard. Lo hicimos usando el metodo drop. Está por partes pues este método solo toma de 1 a 8 argumentos y queríamos eliminas muchas columnas.\n",
    "Vamos a mantener la columna \"team\", que indica el equipo en que juegan, \"name\" que nos trae como información el nombre de cada jugadora a la que nos referimos, \"height_clean\" que nos indica la altura de la jugadora, \"position_clean\" que nos indica que posición principal juega y \"country_clean\" que nos informa el país de origen."
   ]
  },
  {
   "cell_type": "code",
   "execution_count": 5,
   "metadata": {},
   "outputs": [],
   "source": [
    "df = df.drop(['ncaa_id','player_id', 'year', 'hometown', 'homestate',\n",
    "       'high_school', 'previous_school_clean'], axis=1)\n"
   ]
  },
  {
   "cell_type": "code",
   "execution_count": 6,
   "metadata": {},
   "outputs": [],
   "source": [
    "df = df.drop([ 'url', 'season', 'team_state', 'conference', 'division',\n",
    "       'height_ft', 'height_in', 'total_inches'], axis = 1)"
   ]
  },
  {
   "cell_type": "code",
   "execution_count": 7,
   "metadata": {},
   "outputs": [],
   "source": [
    "df = df.drop(['year_clean', 'redshirt', 'jersey',\n",
    "       'hs_clean', 'hometown_clean', 'state_clean'], axis=1)"
   ]
  },
  {
   "cell_type": "code",
   "execution_count": 8,
   "metadata": {},
   "outputs": [],
   "source": [
    "df = df.drop(['primary_position', 'secondary_position', 'position'], axis=1)"
   ]
  },
  {
   "cell_type": "code",
   "execution_count": 10,
   "metadata": {},
   "outputs": [
    {
     "data": {
      "text/html": [
       "<div>\n",
       "<style scoped>\n",
       "    .dataframe tbody tr th:only-of-type {\n",
       "        vertical-align: middle;\n",
       "    }\n",
       "\n",
       "    .dataframe tbody tr th {\n",
       "        vertical-align: top;\n",
       "    }\n",
       "\n",
       "    .dataframe thead th {\n",
       "        text-align: right;\n",
       "    }\n",
       "</style>\n",
       "<table border=\"1\" class=\"dataframe\">\n",
       "  <thead>\n",
       "    <tr style=\"text-align: right;\">\n",
       "      <th></th>\n",
       "      <th>team</th>\n",
       "      <th>name</th>\n",
       "      <th>height_clean</th>\n",
       "      <th>position_clean</th>\n",
       "      <th>country_clean</th>\n",
       "    </tr>\n",
       "  </thead>\n",
       "  <tbody>\n",
       "    <tr>\n",
       "      <th>0</th>\n",
       "      <td>Air Force</td>\n",
       "      <td>Mackenzie Le</td>\n",
       "      <td>5'3\"</td>\n",
       "      <td>GUARD</td>\n",
       "      <td>USA</td>\n",
       "    </tr>\n",
       "    <tr>\n",
       "      <th>1</th>\n",
       "      <td>Air Force</td>\n",
       "      <td>Milahnie Perry</td>\n",
       "      <td>5'7\"</td>\n",
       "      <td>GUARD</td>\n",
       "      <td>USA</td>\n",
       "    </tr>\n",
       "    <tr>\n",
       "      <th>2</th>\n",
       "      <td>Air Force</td>\n",
       "      <td>Madison Smith</td>\n",
       "      <td>5'8\"</td>\n",
       "      <td>GUARD</td>\n",
       "      <td>USA</td>\n",
       "    </tr>\n",
       "  </tbody>\n",
       "</table>\n",
       "</div>"
      ],
      "text/plain": [
       "        team            name height_clean position_clean country_clean\n",
       "0  Air Force    Mackenzie Le         5'3\"          GUARD           USA\n",
       "1  Air Force  Milahnie Perry         5'7\"          GUARD           USA\n",
       "2  Air Force   Madison Smith         5'8\"          GUARD           USA"
      ]
     },
     "execution_count": 10,
     "metadata": {},
     "output_type": "execute_result"
    }
   ],
   "source": [
    "df.head(3)"
   ]
  },
  {
   "cell_type": "code",
   "execution_count": 12,
   "metadata": {},
   "outputs": [
    {
     "name": "stdout",
     "output_type": "stream",
     "text": [
      "<class 'pandas.core.frame.DataFrame'>\n",
      "RangeIndex: 13806 entries, 0 to 13805\n",
      "Data columns (total 5 columns):\n",
      " #   Column          Non-Null Count  Dtype \n",
      "---  ------          --------------  ----- \n",
      " 0   team            13806 non-null  object\n",
      " 1   name            13806 non-null  object\n",
      " 2   height_clean    13767 non-null  object\n",
      " 3   position_clean  13774 non-null  object\n",
      " 4   country_clean   13806 non-null  object\n",
      "dtypes: object(5)\n",
      "memory usage: 539.4+ KB\n"
     ]
    }
   ],
   "source": [
    "df.info()"
   ]
  },
  {
   "attachments": {},
   "cell_type": "markdown",
   "metadata": {},
   "source": [
    "En un segundo paso, averiguamos valores nulos. Lo vamos a hacer sumando la cantidad por columna e igualmente, averiguando el porcentaje de nulos en el dataframe"
   ]
  },
  {
   "cell_type": "code",
   "execution_count": 13,
   "metadata": {},
   "outputs": [
    {
     "name": "stdout",
     "output_type": "stream",
     "text": [
      "team               0\n",
      "name               0\n",
      "height_clean      39\n",
      "position_clean    32\n",
      "country_clean      0\n",
      "dtype: int64\n"
     ]
    }
   ],
   "source": [
    "print(df.isnull().sum())"
   ]
  },
  {
   "cell_type": "code",
   "execution_count": 14,
   "metadata": {},
   "outputs": [
    {
     "name": "stdout",
     "output_type": "stream",
     "text": [
      "% de registros con al menos un valor nulo:  0.5\n"
     ]
    }
   ],
   "source": [
    "print('% de registros con al menos un valor nulo: ', np.round(100 * df.isna().any(axis=1).sum() / df.shape[0], 1))"
   ]
  },
  {
   "attachments": {},
   "cell_type": "markdown",
   "metadata": {},
   "source": [
    "Como se puede observar, los valores nulos representan el 0,5% de los registros. El dataframe posee un total de 13807 filas y en las columnas que usaremos, el valor de nulos es de 39 para \"height_clean\" y 32 para \"position_clean\". Por ende, considerando el número muy pequeño que no afectarían nuestros resultados, optamos por borrar los nulos. Eliminaremos tambien los duplicados"
   ]
  },
  {
   "cell_type": "code",
   "execution_count": 15,
   "metadata": {},
   "outputs": [],
   "source": [
    "df = df.drop_duplicates()"
   ]
  },
  {
   "cell_type": "code",
   "execution_count": 16,
   "metadata": {},
   "outputs": [],
   "source": [
    "df = df.dropna(how='any')\n"
   ]
  },
  {
   "cell_type": "code",
   "execution_count": 17,
   "metadata": {},
   "outputs": [],
   "source": [
    "df.dropna(subset=['height_clean'], inplace=True)"
   ]
  },
  {
   "cell_type": "code",
   "execution_count": 19,
   "metadata": {},
   "outputs": [
    {
     "data": {
      "text/html": [
       "<div>\n",
       "<style scoped>\n",
       "    .dataframe tbody tr th:only-of-type {\n",
       "        vertical-align: middle;\n",
       "    }\n",
       "\n",
       "    .dataframe tbody tr th {\n",
       "        vertical-align: top;\n",
       "    }\n",
       "\n",
       "    .dataframe thead th {\n",
       "        text-align: right;\n",
       "    }\n",
       "</style>\n",
       "<table border=\"1\" class=\"dataframe\">\n",
       "  <thead>\n",
       "    <tr style=\"text-align: right;\">\n",
       "      <th></th>\n",
       "      <th>team</th>\n",
       "      <th>name</th>\n",
       "      <th>height_clean</th>\n",
       "      <th>position_clean</th>\n",
       "      <th>country_clean</th>\n",
       "    </tr>\n",
       "  </thead>\n",
       "  <tbody>\n",
       "    <tr>\n",
       "      <th>13791</th>\n",
       "      <td>Centenary (LA)</td>\n",
       "      <td>Amelia Bagwell</td>\n",
       "      <td>2023-09-05 00:00:00</td>\n",
       "      <td>FORWARD</td>\n",
       "      <td>USA</td>\n",
       "    </tr>\n",
       "    <tr>\n",
       "      <th>13792</th>\n",
       "      <td>Centenary (LA)</td>\n",
       "      <td>Dymon Drumgo</td>\n",
       "      <td>2023-08-05 00:00:00</td>\n",
       "      <td>GUARD</td>\n",
       "      <td>USA</td>\n",
       "    </tr>\n",
       "    <tr>\n",
       "      <th>13793</th>\n",
       "      <td>Bluefield St.</td>\n",
       "      <td>Rori Cox</td>\n",
       "      <td>5'7\"</td>\n",
       "      <td>GUARD</td>\n",
       "      <td>USA</td>\n",
       "    </tr>\n",
       "    <tr>\n",
       "      <th>13794</th>\n",
       "      <td>Bluefield St.</td>\n",
       "      <td>Azariah Binford</td>\n",
       "      <td>5'4\"</td>\n",
       "      <td>GUARD</td>\n",
       "      <td>USA</td>\n",
       "    </tr>\n",
       "    <tr>\n",
       "      <th>13795</th>\n",
       "      <td>Bluefield St.</td>\n",
       "      <td>Alexus Tucker</td>\n",
       "      <td>5'8\"</td>\n",
       "      <td>GUARD</td>\n",
       "      <td>USA</td>\n",
       "    </tr>\n",
       "    <tr>\n",
       "      <th>13796</th>\n",
       "      <td>Bluefield St.</td>\n",
       "      <td>Eriel West</td>\n",
       "      <td>5'6\"</td>\n",
       "      <td>GUARD</td>\n",
       "      <td>USA</td>\n",
       "    </tr>\n",
       "    <tr>\n",
       "      <th>13797</th>\n",
       "      <td>Bluefield St.</td>\n",
       "      <td>Katrina Davis</td>\n",
       "      <td>5'4\"</td>\n",
       "      <td>GUARD</td>\n",
       "      <td>USA</td>\n",
       "    </tr>\n",
       "    <tr>\n",
       "      <th>13798</th>\n",
       "      <td>Bluefield St.</td>\n",
       "      <td>Londen Coleman</td>\n",
       "      <td>6'0\"</td>\n",
       "      <td>FORWARD</td>\n",
       "      <td>USA</td>\n",
       "    </tr>\n",
       "    <tr>\n",
       "      <th>13799</th>\n",
       "      <td>Bluefield St.</td>\n",
       "      <td>Aerihna Afoa</td>\n",
       "      <td>5'6\"</td>\n",
       "      <td>GUARD</td>\n",
       "      <td>USA</td>\n",
       "    </tr>\n",
       "    <tr>\n",
       "      <th>13800</th>\n",
       "      <td>Bluefield St.</td>\n",
       "      <td>Essence Cowan</td>\n",
       "      <td>5'6\"</td>\n",
       "      <td>GUARD</td>\n",
       "      <td>USA</td>\n",
       "    </tr>\n",
       "    <tr>\n",
       "      <th>13801</th>\n",
       "      <td>Bluefield St.</td>\n",
       "      <td>Derricka Bramwell</td>\n",
       "      <td>6'0\"</td>\n",
       "      <td>CENTER</td>\n",
       "      <td>USA</td>\n",
       "    </tr>\n",
       "    <tr>\n",
       "      <th>13802</th>\n",
       "      <td>Bluefield St.</td>\n",
       "      <td>Coraly Dupree</td>\n",
       "      <td>6'1\"</td>\n",
       "      <td>CENTER</td>\n",
       "      <td>USA</td>\n",
       "    </tr>\n",
       "    <tr>\n",
       "      <th>13803</th>\n",
       "      <td>Bluefield St.</td>\n",
       "      <td>Gabrielle Thomas</td>\n",
       "      <td>5'10\"</td>\n",
       "      <td>FORWARD</td>\n",
       "      <td>USA</td>\n",
       "    </tr>\n",
       "    <tr>\n",
       "      <th>13804</th>\n",
       "      <td>Bluefield St.</td>\n",
       "      <td>Zaynah Robinson</td>\n",
       "      <td>5'4\"</td>\n",
       "      <td>GUARD</td>\n",
       "      <td>USA</td>\n",
       "    </tr>\n",
       "    <tr>\n",
       "      <th>13805</th>\n",
       "      <td>Bluefield St.</td>\n",
       "      <td>Dani Janutolo</td>\n",
       "      <td>5'10\"</td>\n",
       "      <td>GUARD</td>\n",
       "      <td>USA</td>\n",
       "    </tr>\n",
       "  </tbody>\n",
       "</table>\n",
       "</div>"
      ],
      "text/plain": [
       "                 team               name         height_clean position_clean  \\\n",
       "13791  Centenary (LA)     Amelia Bagwell  2023-09-05 00:00:00        FORWARD   \n",
       "13792  Centenary (LA)       Dymon Drumgo  2023-08-05 00:00:00          GUARD   \n",
       "13793   Bluefield St.           Rori Cox                 5'7\"          GUARD   \n",
       "13794   Bluefield St.    Azariah Binford                 5'4\"          GUARD   \n",
       "13795   Bluefield St.      Alexus Tucker                 5'8\"          GUARD   \n",
       "13796   Bluefield St.         Eriel West                 5'6\"          GUARD   \n",
       "13797   Bluefield St.      Katrina Davis                 5'4\"          GUARD   \n",
       "13798   Bluefield St.     Londen Coleman                 6'0\"        FORWARD   \n",
       "13799   Bluefield St.       Aerihna Afoa                 5'6\"          GUARD   \n",
       "13800   Bluefield St.      Essence Cowan                 5'6\"          GUARD   \n",
       "13801   Bluefield St.  Derricka Bramwell                 6'0\"         CENTER   \n",
       "13802   Bluefield St.      Coraly Dupree                 6'1\"         CENTER   \n",
       "13803   Bluefield St.   Gabrielle Thomas                5'10\"        FORWARD   \n",
       "13804   Bluefield St.    Zaynah Robinson                 5'4\"          GUARD   \n",
       "13805   Bluefield St.      Dani Janutolo                5'10\"          GUARD   \n",
       "\n",
       "      country_clean  \n",
       "13791           USA  \n",
       "13792           USA  \n",
       "13793           USA  \n",
       "13794           USA  \n",
       "13795           USA  \n",
       "13796           USA  \n",
       "13797           USA  \n",
       "13798           USA  \n",
       "13799           USA  \n",
       "13800           USA  \n",
       "13801           USA  \n",
       "13802           USA  \n",
       "13803           USA  \n",
       "13804           USA  \n",
       "13805           USA  "
      ]
     },
     "execution_count": 19,
     "metadata": {},
     "output_type": "execute_result"
    }
   ],
   "source": [
    "df.tail(15)"
   ]
  },
  {
   "cell_type": "code",
   "execution_count": 20,
   "metadata": {},
   "outputs": [
    {
     "name": "stdout",
     "output_type": "stream",
     "text": [
      "team              0\n",
      "name              0\n",
      "height_clean      0\n",
      "position_clean    0\n",
      "country_clean     0\n",
      "dtype: int64\n"
     ]
    }
   ],
   "source": [
    "print(df.isna().sum())"
   ]
  },
  {
   "attachments": {},
   "cell_type": "markdown",
   "metadata": {},
   "source": [
    "Si bien el dataframe ya no tiene nulos, evaluando el resultado, nos dimos cuenta que los datos cargados en la columna \"height_clean\" son de distintos tipos. Pasamos a averiguar "
   ]
  },
  {
   "cell_type": "code",
   "execution_count": 21,
   "metadata": {},
   "outputs": [
    {
     "name": "stdout",
     "output_type": "stream",
     "text": [
      "object\n"
     ]
    }
   ],
   "source": [
    "tipo_de_datos = df['height_clean'].dtype\n",
    "print(tipo_de_datos)"
   ]
  },
  {
   "cell_type": "code",
   "execution_count": 22,
   "metadata": {},
   "outputs": [
    {
     "data": {
      "text/plain": [
       "[str, str, str, datetime.datetime, datetime.datetime, datetime.datetime]"
      ]
     },
     "execution_count": 22,
     "metadata": {},
     "output_type": "execute_result"
    }
   ],
   "source": [
    "#verificamos dato por dato, uno a uno, si todos son del tipo str y encontramos que algunos son del tipo \"datetime\"\n",
    "tipo_de_datos = df['height_clean'].map(lambda x:type(x))\n",
    "lista_tipo_de_datos = list(tipo_de_datos)\n",
    "lista_tipo_de_datos [110:116] #para efectos practicos mandamos llamar los elementos del 110 al 116 para observar la diferencia"
   ]
  },
  {
   "cell_type": "code",
   "execution_count": 23,
   "metadata": {},
   "outputs": [
    {
     "data": {
      "text/plain": [
       "datetime.datetime(2023, 6, 5, 0, 0)"
      ]
     },
     "execution_count": 23,
     "metadata": {},
     "output_type": "execute_result"
    }
   ],
   "source": [
    "df.loc[116,'height_clean'] #el dato en el en la celda index 116 de la columna 'height_clean' es una fecha"
   ]
  },
  {
   "cell_type": "code",
   "execution_count": 24,
   "metadata": {},
   "outputs": [
    {
     "data": {
      "text/html": [
       "<div>\n",
       "<style scoped>\n",
       "    .dataframe tbody tr th:only-of-type {\n",
       "        vertical-align: middle;\n",
       "    }\n",
       "\n",
       "    .dataframe tbody tr th {\n",
       "        vertical-align: top;\n",
       "    }\n",
       "\n",
       "    .dataframe thead th {\n",
       "        text-align: right;\n",
       "    }\n",
       "</style>\n",
       "<table border=\"1\" class=\"dataframe\">\n",
       "  <thead>\n",
       "    <tr style=\"text-align: right;\">\n",
       "      <th></th>\n",
       "      <th>team</th>\n",
       "      <th>name</th>\n",
       "      <th>height_clean</th>\n",
       "      <th>position_clean</th>\n",
       "      <th>country_clean</th>\n",
       "    </tr>\n",
       "  </thead>\n",
       "  <tbody>\n",
       "    <tr>\n",
       "      <th>110</th>\n",
       "      <td>Boston College</td>\n",
       "      <td>T'Yana Todd</td>\n",
       "      <td>6'0\"</td>\n",
       "      <td>GUARD</td>\n",
       "      <td>CANADA</td>\n",
       "    </tr>\n",
       "    <tr>\n",
       "      <th>111</th>\n",
       "      <td>Boston College</td>\n",
       "      <td>Ally Carman</td>\n",
       "      <td>6'5\"</td>\n",
       "      <td>CENTER</td>\n",
       "      <td>USA</td>\n",
       "    </tr>\n",
       "    <tr>\n",
       "      <th>112</th>\n",
       "      <td>Boston College</td>\n",
       "      <td>Akunna Konkwo</td>\n",
       "      <td>6'2\"</td>\n",
       "      <td>CENTER</td>\n",
       "      <td>USA</td>\n",
       "    </tr>\n",
       "    <tr>\n",
       "      <th>113</th>\n",
       "      <td>Oregon State</td>\n",
       "      <td>Shalexxus Aaron</td>\n",
       "      <td>2023-01-06 00:00:00</td>\n",
       "      <td>GUARD</td>\n",
       "      <td>USA</td>\n",
       "    </tr>\n",
       "    <tr>\n",
       "      <th>114</th>\n",
       "      <td>Oregon State</td>\n",
       "      <td>Bendu Yeaney</td>\n",
       "      <td>2023-10-05 00:00:00</td>\n",
       "      <td>GUARD</td>\n",
       "      <td>USA</td>\n",
       "    </tr>\n",
       "    <tr>\n",
       "      <th>115</th>\n",
       "      <td>Oregon State</td>\n",
       "      <td>Lily Hansford</td>\n",
       "      <td>2023-02-06 00:00:00</td>\n",
       "      <td>GUARD</td>\n",
       "      <td>USA</td>\n",
       "    </tr>\n",
       "  </tbody>\n",
       "</table>\n",
       "</div>"
      ],
      "text/plain": [
       "               team             name         height_clean position_clean  \\\n",
       "110  Boston College      T'Yana Todd                 6'0\"          GUARD   \n",
       "111  Boston College      Ally Carman                 6'5\"         CENTER   \n",
       "112  Boston College    Akunna Konkwo                 6'2\"         CENTER   \n",
       "113    Oregon State  Shalexxus Aaron  2023-01-06 00:00:00          GUARD   \n",
       "114    Oregon State     Bendu Yeaney  2023-10-05 00:00:00          GUARD   \n",
       "115    Oregon State    Lily Hansford  2023-02-06 00:00:00          GUARD   \n",
       "\n",
       "    country_clean  \n",
       "110        CANADA  \n",
       "111           USA  \n",
       "112           USA  \n",
       "113           USA  \n",
       "114           USA  \n",
       "115           USA  "
      ]
     },
     "execution_count": 24,
     "metadata": {},
     "output_type": "execute_result"
    }
   ],
   "source": [
    "df.iloc[110:116] #mejor visualización de los datos"
   ]
  },
  {
   "cell_type": "code",
   "execution_count": 26,
   "metadata": {},
   "outputs": [],
   "source": [
    "#cambiamos a nulo los datos que sean del tipo date time\n",
    "df['height_clean'] = df['height_clean'].apply(lambda x: None if isinstance(x, pd.datetime) else x)"
   ]
  },
  {
   "cell_type": "code",
   "execution_count": 27,
   "metadata": {},
   "outputs": [
    {
     "data": {
      "text/html": [
       "<div>\n",
       "<style scoped>\n",
       "    .dataframe tbody tr th:only-of-type {\n",
       "        vertical-align: middle;\n",
       "    }\n",
       "\n",
       "    .dataframe tbody tr th {\n",
       "        vertical-align: top;\n",
       "    }\n",
       "\n",
       "    .dataframe thead th {\n",
       "        text-align: right;\n",
       "    }\n",
       "</style>\n",
       "<table border=\"1\" class=\"dataframe\">\n",
       "  <thead>\n",
       "    <tr style=\"text-align: right;\">\n",
       "      <th></th>\n",
       "      <th>team</th>\n",
       "      <th>name</th>\n",
       "      <th>height_clean</th>\n",
       "      <th>position_clean</th>\n",
       "      <th>country_clean</th>\n",
       "    </tr>\n",
       "  </thead>\n",
       "  <tbody>\n",
       "    <tr>\n",
       "      <th>110</th>\n",
       "      <td>Boston College</td>\n",
       "      <td>T'Yana Todd</td>\n",
       "      <td>6'0\"</td>\n",
       "      <td>GUARD</td>\n",
       "      <td>CANADA</td>\n",
       "    </tr>\n",
       "    <tr>\n",
       "      <th>111</th>\n",
       "      <td>Boston College</td>\n",
       "      <td>Ally Carman</td>\n",
       "      <td>6'5\"</td>\n",
       "      <td>CENTER</td>\n",
       "      <td>USA</td>\n",
       "    </tr>\n",
       "    <tr>\n",
       "      <th>112</th>\n",
       "      <td>Boston College</td>\n",
       "      <td>Akunna Konkwo</td>\n",
       "      <td>6'2\"</td>\n",
       "      <td>CENTER</td>\n",
       "      <td>USA</td>\n",
       "    </tr>\n",
       "    <tr>\n",
       "      <th>113</th>\n",
       "      <td>Oregon State</td>\n",
       "      <td>Shalexxus Aaron</td>\n",
       "      <td>None</td>\n",
       "      <td>GUARD</td>\n",
       "      <td>USA</td>\n",
       "    </tr>\n",
       "    <tr>\n",
       "      <th>114</th>\n",
       "      <td>Oregon State</td>\n",
       "      <td>Bendu Yeaney</td>\n",
       "      <td>None</td>\n",
       "      <td>GUARD</td>\n",
       "      <td>USA</td>\n",
       "    </tr>\n",
       "    <tr>\n",
       "      <th>115</th>\n",
       "      <td>Oregon State</td>\n",
       "      <td>Lily Hansford</td>\n",
       "      <td>None</td>\n",
       "      <td>GUARD</td>\n",
       "      <td>USA</td>\n",
       "    </tr>\n",
       "  </tbody>\n",
       "</table>\n",
       "</div>"
      ],
      "text/plain": [
       "               team             name height_clean position_clean country_clean\n",
       "110  Boston College      T'Yana Todd         6'0\"          GUARD        CANADA\n",
       "111  Boston College      Ally Carman         6'5\"         CENTER           USA\n",
       "112  Boston College    Akunna Konkwo         6'2\"         CENTER           USA\n",
       "113    Oregon State  Shalexxus Aaron         None          GUARD           USA\n",
       "114    Oregon State     Bendu Yeaney         None          GUARD           USA\n",
       "115    Oregon State    Lily Hansford         None          GUARD           USA"
      ]
     },
     "execution_count": 27,
     "metadata": {},
     "output_type": "execute_result"
    }
   ],
   "source": [
    "df.iloc[110:116] # aquí ya podemos observar como los datos que solían ser fechas pasaron a None"
   ]
  },
  {
   "cell_type": "code",
   "execution_count": 28,
   "metadata": {},
   "outputs": [
    {
     "data": {
      "text/plain": [
       "team               0.000000\n",
       "name               0.000000\n",
       "height_clean      17.581138\n",
       "position_clean     0.000000\n",
       "country_clean      0.000000\n",
       "dtype: float64"
      ]
     },
     "execution_count": 28,
     "metadata": {},
     "output_type": "execute_result"
    }
   ],
   "source": [
    "#Volvemos a buscar los valores nulos del data frame pero lo pasamos a porcentaje\n",
    "df.isnull().mean()*100   # como solo es el 17.5% de los datos decidimos borrarlos"
   ]
  },
  {
   "cell_type": "code",
   "execution_count": 29,
   "metadata": {},
   "outputs": [],
   "source": [
    "df = df.dropna(subset=['height_clean'])  #eliminamos los valores null"
   ]
  },
  {
   "cell_type": "code",
   "execution_count": 30,
   "metadata": {},
   "outputs": [
    {
     "data": {
      "text/plain": [
       "team              0.0\n",
       "name              0.0\n",
       "height_clean      0.0\n",
       "position_clean    0.0\n",
       "country_clean     0.0\n",
       "dtype: float64"
      ]
     },
     "execution_count": 30,
     "metadata": {},
     "output_type": "execute_result"
    }
   ],
   "source": [
    "df.isnull().mean()*100 #observamos que ya no tenemos valores nulos para columna 'height_clean'"
   ]
  },
  {
   "attachments": {},
   "cell_type": "markdown",
   "metadata": {},
   "source": [
    "Usaremos una funcion para transformar los datos de la columna \"height_clean\". Esta función utiliza expresiones regulares para buscar patrones en las cadenas de altura y convertirlos a centímetros. Los patrones son los siguientes:\n",
    "feet_inches_pattern: busca un número seguido de un carácter que indica pies o pulgadas, luego otro número y otro carácter de pies o pulgadas. Ejemplos: \"6'11\", \"5-8\".\n",
    "feet_pattern: busca un número seguido de un carácter que indica pies. Ejemplo: \"6'0\".\n",
    "inches_pattern: busca un carácter que indica pulgadas seguido de un número. Ejemplo: \"5'9\".\n",
    "Si la cadena de entrada no coincide con ninguno de estos patrones, la función devuelve None."
   ]
  },
  {
   "cell_type": "code",
   "execution_count": 31,
   "metadata": {},
   "outputs": [],
   "source": [
    "def height_to_cm(height_str):\n",
    "    feet_inches_pattern = re.compile(r'(\\d+)([\\W_])(\\d+)')\n",
    "    feet_pattern = re.compile(r'(\\d+)([\\W_])')\n",
    "    inches_pattern = re.compile(r'([\\W_])(\\d+)')\n",
    "    \n",
    "    match = feet_inches_pattern.match(height_str)\n",
    "    if match:\n",
    "        feet = int(match.group(1))\n",
    "        inches = int(match.group(3))\n",
    "    else:\n",
    "        match = feet_pattern.match(height_str)\n",
    "        if match:\n",
    "            feet = int(match.group(1))\n",
    "            inches = 0\n",
    "        else:\n",
    "            match = inches_pattern.search(height_str)\n",
    "            if match:\n",
    "                feet = 0\n",
    "                inches = int(match.group(2))\n",
    "            else:\n",
    "                return None\n",
    "    \n",
    "    total_inches = feet * 12 + inches\n",
    "    height_cm = total_inches * 2.54\n",
    "    return height_cm"
   ]
  },
  {
   "cell_type": "code",
   "execution_count": 32,
   "metadata": {},
   "outputs": [],
   "source": [
    "df['height_clean'] = df['height_clean'].astype(str)"
   ]
  },
  {
   "attachments": {},
   "cell_type": "markdown",
   "metadata": {},
   "source": [
    "Vamos a crear una nueva columna llamando la función para transformar la data de height_clean a sistema métrico"
   ]
  },
  {
   "cell_type": "code",
   "execution_count": 33,
   "metadata": {},
   "outputs": [],
   "source": [
    "df['height_cm'] = df['height_clean'].apply(height_to_cm)"
   ]
  },
  {
   "cell_type": "code",
   "execution_count": 34,
   "metadata": {},
   "outputs": [
    {
     "name": "stdout",
     "output_type": "stream",
     "text": [
      "<class 'pandas.core.frame.DataFrame'>\n",
      "Int64Index: 11326 entries, 0 to 13805\n",
      "Data columns (total 6 columns):\n",
      " #   Column          Non-Null Count  Dtype  \n",
      "---  ------          --------------  -----  \n",
      " 0   team            11326 non-null  object \n",
      " 1   name            11326 non-null  object \n",
      " 2   height_clean    11326 non-null  object \n",
      " 3   position_clean  11326 non-null  object \n",
      " 4   country_clean   11326 non-null  object \n",
      " 5   height_cm       11326 non-null  float64\n",
      "dtypes: float64(1), object(5)\n",
      "memory usage: 619.4+ KB\n"
     ]
    }
   ],
   "source": [
    "df.info()"
   ]
  },
  {
   "cell_type": "code",
   "execution_count": 35,
   "metadata": {},
   "outputs": [
    {
     "data": {
      "text/html": [
       "<div>\n",
       "<style scoped>\n",
       "    .dataframe tbody tr th:only-of-type {\n",
       "        vertical-align: middle;\n",
       "    }\n",
       "\n",
       "    .dataframe tbody tr th {\n",
       "        vertical-align: top;\n",
       "    }\n",
       "\n",
       "    .dataframe thead th {\n",
       "        text-align: right;\n",
       "    }\n",
       "</style>\n",
       "<table border=\"1\" class=\"dataframe\">\n",
       "  <thead>\n",
       "    <tr style=\"text-align: right;\">\n",
       "      <th></th>\n",
       "      <th>team</th>\n",
       "      <th>name</th>\n",
       "      <th>height_clean</th>\n",
       "      <th>position_clean</th>\n",
       "      <th>country_clean</th>\n",
       "      <th>height_cm</th>\n",
       "    </tr>\n",
       "  </thead>\n",
       "  <tbody>\n",
       "    <tr>\n",
       "      <th>0</th>\n",
       "      <td>Air Force</td>\n",
       "      <td>Mackenzie Le</td>\n",
       "      <td>5'3\"</td>\n",
       "      <td>GUARD</td>\n",
       "      <td>USA</td>\n",
       "      <td>160.02</td>\n",
       "    </tr>\n",
       "    <tr>\n",
       "      <th>1</th>\n",
       "      <td>Air Force</td>\n",
       "      <td>Milahnie Perry</td>\n",
       "      <td>5'7\"</td>\n",
       "      <td>GUARD</td>\n",
       "      <td>USA</td>\n",
       "      <td>170.18</td>\n",
       "    </tr>\n",
       "    <tr>\n",
       "      <th>2</th>\n",
       "      <td>Air Force</td>\n",
       "      <td>Madison Smith</td>\n",
       "      <td>5'8\"</td>\n",
       "      <td>GUARD</td>\n",
       "      <td>USA</td>\n",
       "      <td>172.72</td>\n",
       "    </tr>\n",
       "  </tbody>\n",
       "</table>\n",
       "</div>"
      ],
      "text/plain": [
       "        team            name height_clean position_clean country_clean  \\\n",
       "0  Air Force    Mackenzie Le         5'3\"          GUARD           USA   \n",
       "1  Air Force  Milahnie Perry         5'7\"          GUARD           USA   \n",
       "2  Air Force   Madison Smith         5'8\"          GUARD           USA   \n",
       "\n",
       "   height_cm  \n",
       "0     160.02  \n",
       "1     170.18  \n",
       "2     172.72  "
      ]
     },
     "execution_count": 35,
     "metadata": {},
     "output_type": "execute_result"
    }
   ],
   "source": [
    "df.head(3)"
   ]
  },
  {
   "cell_type": "code",
   "execution_count": 36,
   "metadata": {},
   "outputs": [
    {
     "data": {
      "text/html": [
       "<div>\n",
       "<style scoped>\n",
       "    .dataframe tbody tr th:only-of-type {\n",
       "        vertical-align: middle;\n",
       "    }\n",
       "\n",
       "    .dataframe tbody tr th {\n",
       "        vertical-align: top;\n",
       "    }\n",
       "\n",
       "    .dataframe thead th {\n",
       "        text-align: right;\n",
       "    }\n",
       "</style>\n",
       "<table border=\"1\" class=\"dataframe\">\n",
       "  <thead>\n",
       "    <tr style=\"text-align: right;\">\n",
       "      <th></th>\n",
       "      <th>height_cm</th>\n",
       "    </tr>\n",
       "    <tr>\n",
       "      <th>team</th>\n",
       "      <th></th>\n",
       "    </tr>\n",
       "  </thead>\n",
       "  <tbody>\n",
       "    <tr>\n",
       "      <th>A&amp;M-Corpus Christi</th>\n",
       "      <td>177.461333</td>\n",
       "    </tr>\n",
       "    <tr>\n",
       "      <th>AUM</th>\n",
       "      <td>172.950909</td>\n",
       "    </tr>\n",
       "    <tr>\n",
       "      <th>Abilene Christian</th>\n",
       "      <td>177.409231</td>\n",
       "    </tr>\n",
       "  </tbody>\n",
       "</table>\n",
       "</div>"
      ],
      "text/plain": [
       "                     height_cm\n",
       "team                          \n",
       "A&M-Corpus Christi  177.461333\n",
       "AUM                 172.950909\n",
       "Abilene Christian   177.409231"
      ]
     },
     "execution_count": 36,
     "metadata": {},
     "output_type": "execute_result"
    }
   ],
   "source": [
    "#Vamos a obtner la altura promedio por equipo\n",
    "\n",
    "# df_APE = df_Altura Promedio por Equipo\n",
    "df_APE = df.groupby('team')   #agrupamos por \"team\"\n",
    "df_APE = df_APE['height_cm'].mean()  #obtenemos la media por equipo\n",
    "df_APE = df_APE.to_frame() #transformamos la serie a un dataframe\n",
    "df_APE.head(3)"
   ]
  },
  {
   "attachments": {},
   "cell_type": "markdown",
   "metadata": {},
   "source": [
    "Finalmente, salvamos el archivo para usarlo en Tableau"
   ]
  },
  {
   "cell_type": "code",
   "execution_count": 52,
   "metadata": {},
   "outputs": [],
   "source": [
    "df.to_excel(file_path, index=False)"
   ]
  },
  {
   "cell_type": "code",
   "execution_count": 38,
   "metadata": {},
   "outputs": [],
   "source": [
    "#propongo guardar el excel con otro nombre ya que el data frame será exclusivamente para la altura promedio\n",
    "df_APE.to_excel('Data_Sets/mean_height_data_frame.xlsx')"
   ]
  },
  {
   "cell_type": "code",
   "execution_count": 42,
   "metadata": {},
   "outputs": [
    {
     "data": {
      "text/html": [
       "<div>\n",
       "<style scoped>\n",
       "    .dataframe tbody tr th:only-of-type {\n",
       "        vertical-align: middle;\n",
       "    }\n",
       "\n",
       "    .dataframe tbody tr th {\n",
       "        vertical-align: top;\n",
       "    }\n",
       "\n",
       "    .dataframe thead th {\n",
       "        text-align: right;\n",
       "    }\n",
       "</style>\n",
       "<table border=\"1\" class=\"dataframe\">\n",
       "  <thead>\n",
       "    <tr style=\"text-align: right;\">\n",
       "      <th></th>\n",
       "      <th>height_cm</th>\n",
       "    </tr>\n",
       "    <tr>\n",
       "      <th>team</th>\n",
       "      <th></th>\n",
       "    </tr>\n",
       "  </thead>\n",
       "  <tbody>\n",
       "    <tr>\n",
       "      <th>UConn</th>\n",
       "      <td>186.055000</td>\n",
       "    </tr>\n",
       "    <tr>\n",
       "      <th>Michigan</th>\n",
       "      <td>185.589333</td>\n",
       "    </tr>\n",
       "    <tr>\n",
       "      <th>Rutgers</th>\n",
       "      <td>184.785000</td>\n",
       "    </tr>\n",
       "    <tr>\n",
       "      <th>Stanford</th>\n",
       "      <td>184.742667</td>\n",
       "    </tr>\n",
       "    <tr>\n",
       "      <th>Kansas</th>\n",
       "      <td>184.573333</td>\n",
       "    </tr>\n",
       "  </tbody>\n",
       "</table>\n",
       "</div>"
      ],
      "text/plain": [
       "           height_cm\n",
       "team                \n",
       "UConn     186.055000\n",
       "Michigan  185.589333\n",
       "Rutgers   184.785000\n",
       "Stanford  184.742667\n",
       "Kansas    184.573333"
      ]
     },
     "execution_count": 42,
     "metadata": {},
     "output_type": "execute_result"
    }
   ],
   "source": [
    "# como son cerca de 900 equipos escogemos a los 5 equipos con mayor altura promedio\n",
    "df_APE_5 = df_APE['height_cm'].nlargest(5).to_frame()\n",
    "df_APE_5"
   ]
  },
  {
   "cell_type": "code",
   "execution_count": 43,
   "metadata": {},
   "outputs": [],
   "source": [
    "#propongo guardar el excel con otro nombre ya que el data frame será exclusivamente \n",
    "#para los 5 equipos con mayor altura promedio\n",
    "df_APE_5.to_excel('Data_Sets/top5_mean_height_data_frame.xlsx')"
   ]
  }
 ],
 "metadata": {
  "kernelspec": {
   "display_name": "Python 3",
   "language": "python",
   "name": "python3"
  },
  "language_info": {
   "codemirror_mode": {
    "name": "ipython",
    "version": 3
   },
   "file_extension": ".py",
   "mimetype": "text/x-python",
   "name": "python",
   "nbconvert_exporter": "python",
   "pygments_lexer": "ipython3",
   "version": "3.11.2"
  },
  "orig_nbformat": 4
 },
 "nbformat": 4,
 "nbformat_minor": 2
}
