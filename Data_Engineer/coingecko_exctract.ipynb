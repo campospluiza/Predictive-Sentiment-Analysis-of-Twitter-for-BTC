{
 "cells": [
  {
   "cell_type": "code",
   "execution_count": null,
   "metadata": {},
   "outputs": [],
   "source": [
    "from binance.client import Client\n",
    "import datetime\n",
    "\n",
    "# Configura tu API Key y API Secret de Binance\n",
    "api_key = ''\n",
    "api_secret = ''\n",
    "\n",
    "# Crea una instancia del cliente de Binance\n",
    "client = Client(api_key, api_secret)\n",
    "\n",
    "# Obtén el tiempo actual en formato Unix (milisegundos)\n",
    "timestamp = client.get_server_time()['serverTime']\n",
    "\n",
    "# Ejemplo: obtener el estado de la cuenta\n",
    "account_info = client.get_account()\n",
    "print(account_info)\n",
    "\n",
    "# Ejemplo: obtener el libro de órdenes para un par de criptomonedas\n",
    "depth = client.get_order_book(symbol='BTCUSDT')\n",
    "print(depth)\n",
    "\n",
    "\n",
    "# Convierte el timestamp a un objeto datetime\n",
    "dt = datetime.datetime.fromtimestamp(timestamp / 1000)\n",
    "\n",
    "# Obtén el año, minutos y segundos del objeto datetime\n",
    "year = dt.year\n",
    "minutes = dt.minute\n",
    "seconds = dt.second\n",
    "\n",
    "# Obtén el precio del Bitcoin en Binance\n",
    "symbol = 'BTCUSDT'  # Puedes cambiar el símbolo según tus necesidades\n",
    "price = client.get_symbol_ticker(symbol=symbol)['price']\n",
    "\n",
    "# Imprime el resultado\n",
    "print(f\"Precio de Bitcoin (Año: {year}, Minutos: {minutes}, Segundos: {seconds}): {price}\")\n"
   ]
  },
  {
   "cell_type": "code",
   "execution_count": null,
   "metadata": {},
   "outputs": [],
   "source": [
    "pip install yfinance\n"
   ]
  },
  {
   "cell_type": "code",
   "execution_count": 2,
   "metadata": {},
   "outputs": [
    {
     "name": "stdout",
     "output_type": "stream",
     "text": [
      "Precio actual de Bitcoin: 26867.669921875\n"
     ]
    }
   ],
   "source": [
    "import yfinance as yf\n",
    "from datetime import datetime\n",
    "\n",
    "def obtener_precio_bitcoin():\n",
    "    # Obtener el objeto ticker de Bitcoin\n",
    "    ticker = yf.Ticker(\"BTC-USD\")\n",
    "    \n",
    "    # Obtener el historial de precios con el rango de tiempo deseado\n",
    "    historial = ticker.history(period=\"1s\")  # Obtiene el precio más reciente\n",
    "    \n",
    "    # Obtener el precio más reciente\n",
    "    precio_actual = historial[\"Close\"].iloc[-1]\n",
    "    \n",
    "    return precio_actual\n",
    "\n",
    "# Obtener el precio actual del Bitcoin\n",
    "precio = obtener_precio_bitcoin()\n",
    "\n",
    "# Imprimir el precio\n",
    "print(\"Precio actual de Bitcoin:\", precio)\n"
   ]
  },
  {
   "cell_type": "code",
   "execution_count": null,
   "metadata": {},
   "outputs": [],
   "source": [
    "#Lamentablemente, la API de Yahoo Finance no proporciona datos de precios del Bitcoin con una granularidad temporal de año, minutos y segundos. \n",
    "# La API de Yahoo Finance generalmente ofrece datos históricos en intervalos diarios, semanales o mensuales."
   ]
  },
  {
   "cell_type": "code",
   "execution_count": null,
   "metadata": {},
   "outputs": [],
   "source": [
    "#por lo que probe implementando COINGECKO que trae el valor un poco mas actual"
   ]
  },
  {
   "cell_type": "code",
   "execution_count": 2,
   "metadata": {},
   "outputs": [
    {
     "name": "stdout",
     "output_type": "stream",
     "text": [
      "Collecting schedule\n",
      "  Downloading schedule-1.2.0-py2.py3-none-any.whl (11 kB)\n",
      "Installing collected packages: schedule\n",
      "Successfully installed schedule-1.2.0\n",
      "Note: you may need to restart the kernel to use updated packages.\n"
     ]
    },
    {
     "name": "stderr",
     "output_type": "stream",
     "text": [
      "\n",
      "[notice] A new release of pip available: 22.3.1 -> 23.1.2\n",
      "[notice] To update, run: python.exe -m pip install --upgrade pip\n"
     ]
    }
   ],
   "source": [
    "pip install schedule"
   ]
  },
  {
   "cell_type": "code",
   "execution_count": 4,
   "metadata": {},
   "outputs": [
    {
     "name": "stdout",
     "output_type": "stream",
     "text": [
      "Precio actual de Bitcoin: 26898\n",
      "Marca de tiempo: 2023-05-18 21:34:50\n",
      "Precio actual de Bitcoin: 26898\n",
      "Marca de tiempo: 2023-05-18 21:34:50\n",
      "Precio actual de Bitcoin: 26898\n",
      "Marca de tiempo: 2023-05-18 21:34:50\n"
     ]
    },
    {
     "ename": "KeyboardInterrupt",
     "evalue": "",
     "output_type": "error",
     "traceback": [
      "\u001b[1;31m---------------------------------------------------------------------------\u001b[0m",
      "\u001b[1;31mKeyboardInterrupt\u001b[0m                         Traceback (most recent call last)",
      "Cell \u001b[1;32mIn[4], line 32\u001b[0m\n\u001b[0;32m     29\u001b[0m tiempo_transcurrido \u001b[39m=\u001b[39m fin_tiempo \u001b[39m-\u001b[39m inicio_tiempo\n\u001b[0;32m     31\u001b[0m tiempo_espera \u001b[39m=\u001b[39m \u001b[39mmax\u001b[39m(\u001b[39m60\u001b[39m \u001b[39m-\u001b[39m tiempo_transcurrido, \u001b[39m0\u001b[39m)\n\u001b[1;32m---> 32\u001b[0m time\u001b[39m.\u001b[39;49msleep(tiempo_espera)\n",
      "\u001b[1;31mKeyboardInterrupt\u001b[0m: "
     ]
    }
   ],
   "source": [
    "import requests\n",
    "from datetime import datetime\n",
    "import time\n",
    "import schedule \n",
    "def obtener_precio_bitcoin():\n",
    "    url = \"https://api.coingecko.com/api/v3/simple/price?ids=bitcoin&vs_currencies=usd&include_last_updated_at=true\"\n",
    "    \n",
    "    # Hacer la solicitud a la API de CoinGecko\n",
    "    response = requests.get(url)\n",
    "    data = response.json()\n",
    "    \n",
    "    # Obtener el precio y la marca de tiempo\n",
    "    precio = data['bitcoin']['usd']\n",
    "    marca_tiempo = datetime.fromtimestamp(data['bitcoin']['last_updated_at'])\n",
    "    \n",
    "    return precio, marca_tiempo\n",
    "\n",
    "# Obtener el precio actual del Bitcoin\n",
    "precio, marca_tiempo = obtener_precio_bitcoin()\n",
    "\n",
    "while True:\n",
    "    inicio_tiempo = time.time()\n",
    "\n",
    "    precio, marca_tiempo = obtener_precio_bitcoin()\n",
    "    print(\"Precio actual de Bitcoin:\", precio)\n",
    "    print(\"Marca de tiempo:\", marca_tiempo)\n",
    "\n",
    "    fin_tiempo = time.time()\n",
    "    tiempo_transcurrido = fin_tiempo - inicio_tiempo\n",
    "\n",
    "    tiempo_espera = max(60 - tiempo_transcurrido, 0)\n",
    "    time.sleep(tiempo_espera)"
   ]
  },
  {
   "cell_type": "code",
   "execution_count": null,
   "metadata": {},
   "outputs": [],
   "source": [
    "# creamos el codigo para que nos de cada 1 minuto la actualizacion real del bitcoin , podriamos tambien pararlo y que cada X cantidad de tiempo se ejecute solo \n",
    "#podriamos automatizar este proceso implementando DAG de apache airflow aumentando la eficiencia "
   ]
  },
  {
   "cell_type": "code",
   "execution_count": 1,
   "metadata": {},
   "outputs": [],
   "source": [
    "pip install apache-airflow"
   ]
  },
  {
   "cell_type": "code",
   "execution_count": 3,
   "metadata": {},
   "outputs": [
    {
     "ename": "ModuleNotFoundError",
     "evalue": "No module named 'airflow'",
     "output_type": "error",
     "traceback": [
      "\u001b[1;31m---------------------------------------------------------------------------\u001b[0m",
      "\u001b[1;31mModuleNotFoundError\u001b[0m                       Traceback (most recent call last)",
      "Cell \u001b[1;32mIn[3], line 3\u001b[0m\n\u001b[0;32m      1\u001b[0m \u001b[39mimport\u001b[39;00m \u001b[39mrequests\u001b[39;00m\n\u001b[0;32m      2\u001b[0m \u001b[39mfrom\u001b[39;00m \u001b[39mdatetime\u001b[39;00m \u001b[39mimport\u001b[39;00m datetime\n\u001b[1;32m----> 3\u001b[0m \u001b[39mfrom\u001b[39;00m \u001b[39mairflow\u001b[39;00m \u001b[39mimport\u001b[39;00m DAG\n\u001b[0;32m      4\u001b[0m \u001b[39mfrom\u001b[39;00m \u001b[39mairflow\u001b[39;00m\u001b[39m.\u001b[39;00m\u001b[39moperators\u001b[39;00m\u001b[39m.\u001b[39;00m\u001b[39mpython_operator\u001b[39;00m \u001b[39mimport\u001b[39;00m PythonOperator\n\u001b[0;32m      5\u001b[0m \u001b[39mfrom\u001b[39;00m \u001b[39mairflow\u001b[39;00m\u001b[39m.\u001b[39;00m\u001b[39mutils\u001b[39;00m\u001b[39m.\u001b[39;00m\u001b[39mdates\u001b[39;00m \u001b[39mimport\u001b[39;00m datetime \u001b[39mas\u001b[39;00m dt\n",
      "\u001b[1;31mModuleNotFoundError\u001b[0m: No module named 'airflow'"
     ]
    }
   ],
   "source": [
    "import requests\n",
    "from datetime import datetime\n",
    "from airflow import DAG\n",
    "from airflow.operators.python_operator import PythonOperator\n",
    "from airflow.utils.dates import datetime as dt\n",
    "from time import sleep\n",
    "\n",
    "def obtener_precio_bitcoin():\n",
    "    url = \"https://api.coingecko.com/api/v3/simple/price?ids=bitcoin&vs_currencies=usd&include_last_updated_at=true\"\n",
    "\n",
    "    # Hacer la solicitud a la API de CoinGecko\n",
    "    response = requests.get(url)\n",
    "    data = response.json()\n",
    "\n",
    "    # Obtener el precio y la marca de tiempo\n",
    "    precio = data['bitcoin']['usd']\n",
    "    marca_tiempo = datetime.fromtimestamp(data['bitcoin']['last_updated_at'])\n",
    "\n",
    "    return precio, marca_tiempo\n",
    "\n",
    "def ejecutar_codigo():\n",
    "    precio, marca_tiempo = obtener_precio_bitcoin()\n",
    "    print(\"Precio actual de Bitcoin:\", precio)\n",
    "    print(\"Marca de tiempo:\", marca_tiempo)\n",
    "\n",
    "\n",
    "default_args = {\n",
    "    'owner': 'airflow',\n",
    "    'start_date': dt(2023, 5, 1),\n",
    "    'retries': 0\n",
    "}\n",
    "\n",
    "dag = DAG('actualizacion_bitcoin', default_args=default_args, schedule_interval='*/1 * * * *')\n",
    "\n",
    "task = PythonOperator(\n",
    "    task_id='ejecutar_codigo',\n",
    "    python_callable=ejecutar_codigo,\n",
    "    dag=dag\n",
    ")\n"
   ]
  }
 ],
 "metadata": {
  "kernelspec": {
   "display_name": "Python 3",
   "language": "python",
   "name": "python3"
  },
  "language_info": {
   "codemirror_mode": {
    "name": "ipython",
    "version": 3
   },
   "file_extension": ".py",
   "mimetype": "text/x-python",
   "name": "python",
   "nbconvert_exporter": "python",
   "pygments_lexer": "ipython3",
   "version": "3.11.2"
  },
  "orig_nbformat": 4
 },
 "nbformat": 4,
 "nbformat_minor": 2
}
